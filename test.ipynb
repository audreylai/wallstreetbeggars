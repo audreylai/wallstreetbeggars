{
 "cells": [
  {
   "cell_type": "code",
   "execution_count": 5,
   "metadata": {},
   "outputs": [
    {
     "data": {
      "text/plain": [
       "[{'ticker': '0001-HK',\n",
       "  'last_close': 53.0,\n",
       "  'last_close_pct': 0.0037878932922232877},\n",
       " {'ticker': '0002-HK',\n",
       "  'last_close': 66.30000305175781,\n",
       "  'last_close_pct': 0.007598783842102552},\n",
       " {'ticker': '0003-HK',\n",
       "  'last_close': 8.369999885559082,\n",
       "  'last_close_pct': -0.010638315860764913},\n",
       " {'ticker': '0005-HK',\n",
       "  'last_close': 49.04999923706055,\n",
       "  'last_close_pct': 0.0010203925930722946},\n",
       " {'ticker': '0006-HK',\n",
       "  'last_close': 50.349998474121094,\n",
       "  'last_close_pct': 0.009017974638914739},\n",
       " {'ticker': '0011-HK',\n",
       "  'last_close': 132.5,\n",
       "  'last_close_pct': -0.003009736003418695},\n",
       " {'ticker': '0012-HK',\n",
       "  'last_close': 28.5,\n",
       "  'last_close_pct': 0.0017574423803066175},\n",
       " {'ticker': '0016-HK', 'last_close': 92.9000015258789, 'last_close_pct': 0.0},\n",
       " {'ticker': '0017-HK',\n",
       "  'last_close': 27.049999237060547,\n",
       "  'last_close_pct': -0.003683255354503756},\n",
       " {'ticker': '0019-HK',\n",
       "  'last_close': 46.29999923706055,\n",
       "  'last_close_pct': -0.004301091676117252},\n",
       " {'ticker': '0027-HK',\n",
       "  'last_close': 44.599998474121094,\n",
       "  'last_close_pct': -0.015452555733527995},\n",
       " {'ticker': '0066-HK',\n",
       "  'last_close': 41.54999923706055,\n",
       "  'last_close_pct': 0.012180268192272914},\n",
       " {'ticker': '0083-HK',\n",
       "  'last_close': 11.5,\n",
       "  'last_close_pct': 0.005244792116914532}]"
      ]
     },
     "execution_count": 5,
     "metadata": {},
     "output_type": "execute_result"
    }
   ],
   "source": [
    "from db_pkg.stock import *\n",
    "get_mkt_overview_data()"
   ]
  },
  {
   "cell_type": "code",
   "execution_count": null,
   "metadata": {},
   "outputs": [],
   "source": [
    "\n"
   ]
  },
  {
   "cell_type": "code",
   "execution_count": null,
   "metadata": {},
   "outputs": [],
   "source": []
  }
 ],
 "metadata": {
  "kernelspec": {
   "display_name": "Python 3.10.4 64-bit",
   "language": "python",
   "name": "python3"
  },
  "language_info": {
   "codemirror_mode": {
    "name": "ipython",
    "version": 3
   },
   "file_extension": ".py",
   "mimetype": "text/x-python",
   "name": "python",
   "nbconvert_exporter": "python",
   "pygments_lexer": "ipython3",
   "version": "3.10.4"
  },
  "orig_nbformat": 4,
  "vscode": {
   "interpreter": {
    "hash": "369f2c481f4da34e4445cda3fffd2e751bd1c4d706f27375911949ba6bb62e1c"
   }
  }
 },
 "nbformat": 4,
 "nbformat_minor": 2
}
